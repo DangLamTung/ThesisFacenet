{
 "cells": [
  {
   "cell_type": "markdown",
   "metadata": {},
   "source": [
    "# Facenet demo\n"
   ]
  },
  {
   "cell_type": "code",
   "execution_count": null,
   "metadata": {},
   "outputs": [],
   "source": [
    "Đây là một bản demo cho facenet, tham khảo thêm paper https://arxiv.org/abs/1503.03832\n",
    "Code và mô hình neural networks được tham khảo từ https://github.com/davidsandberg/facenet"
   ]
  },
  {
   "cell_type": "code",
   "execution_count": 1,
   "metadata": {},
   "outputs": [
    {
     "name": "stderr",
     "output_type": "stream",
     "text": [
      "/usr/lib/python3/dist-packages/h5py/__init__.py:36: FutureWarning: Conversion of the second argument of issubdtype from `float` to `np.floating` is deprecated. In future, it will be treated as `np.float64 == np.dtype(float).type`.\n",
      "  from ._conv import register_converters as _register_converters\n",
      "Using TensorFlow backend.\n"
     ]
    }
   ],
   "source": [
    "import tensorflow as tf\n",
    "import mtcnn_detect\n",
    "import cv2\n",
    "import numpy as np\n",
    "from scipy import misc\n",
    "import time\n",
    "from scipy.spatial import distance\n",
    "from keras.models import load_model\n",
    "import pickle\n",
    "import facenet"
   ]
  },
  {
   "cell_type": "code",
   "execution_count": 2,
   "metadata": {},
   "outputs": [],
   "source": [
    "#Các hằng số của mạng MTCNN\n",
    "minsize = 20\n",
    "threshold = [0.6, 0.7, 0.7]\n",
    "factor = 0.709\n",
    "margin = 44\n",
    "image_size = 160\n",
    "  "
   ]
  },
  {
   "cell_type": "code",
   "execution_count": 3,
   "metadata": {},
   "outputs": [],
   "source": [
    "#Đọc model mạng MTCNN\n",
    "sess = tf.Session()\n",
    "pnet, rnet, onet = mtcnn_detect.create_mtcnn(sess, 'models')"
   ]
  },
  {
   "cell_type": "code",
   "execution_count": 4,
   "metadata": {},
   "outputs": [],
   "source": [
    "frame = cv2.imread('./demo/1.jpg');#đọc một hình"
   ]
  },
  {
   "cell_type": "code",
   "execution_count": null,
   "metadata": {},
   "outputs": [
    {
     "name": "stdout",
     "output_type": "stream",
     "text": [
      "Model directory: ./models\n",
      "Metagraph file: model-20170512-110547.meta\n",
      "Checkpoint file: model-20170512-110547.ckpt-250000\n",
      "WARNING:tensorflow:The saved meta_graph is possibly from an older release:\n",
      "'model_variables' collection should be of type 'byte_list', but instead is of type 'node_list'.\n",
      "INFO:tensorflow:Restoring parameters from ./models/model-20170512-110547.ckpt-250000\n"
     ]
    }
   ],
   "source": [
    "with tf.Graph().as_default():\n",
    "    with tf.Session() as sess:\n",
    "        np.random.seed(seed= 1324 )\n",
    "        facenet.load_model('./models')\n",
    "        images_placeholder = tf.get_default_graph().get_tensor_by_name(\"input:0\")\n",
    "        embeddings = tf.get_default_graph().get_tensor_by_name(\"embeddings:0\")\n",
    "        phase_train_placeholder = tf.get_default_graph().get_tensor_by_name(\"phase_train:0\")\n",
    "        embedding_size = embeddings.get_shape()[1]\n",
    "        emb_array = np.zeros((1, embedding_size))\n",
    "        \n",
    "        (model, class_names) = pickle.load(open('students_classifier.pkl', 'rb'))#load model svm\n",
    "        \n",
    "        bounding_boxes, _ = mtcnn_detect.detect_face(frame, minsize, pnet, rnet, onet, threshold, factor)\n",
    "        nrof_faces = bounding_boxes.shape[0]\n",
    "        if nrof_faces > 0:\n",
    "            det = bounding_boxes[:, 0:4]\n",
    "            img_size = np.asarray(frame.shape)[0:2]\n",
    "\n",
    "            cropped = []\n",
    "            scaled = []\n",
    "            scaled_reshape = []\n",
    "            bb = np.zeros((nrof_faces,4), dtype=np.int32)\n",
    "            font = cv2.FONT_HERSHEY_SIMPLEX\n",
    "            while(1):\n",
    "                for i in range(nrof_faces):\n",
    "                    emb_array = np.zeros((1, embedding_size))\n",
    "                    bb[i][0] = det[i][0]\n",
    "                    bb[i][1] = det[i][1]\n",
    "                    bb[i][2] = det[i][2]\n",
    "                    bb[i][3] = det[i][3]\n",
    "                    cv2.rectangle(frame,(bb[i][0],bb[i][1]),(bb[i][2],bb[i][3]),(255,255,255)) #draw bounding box for the face\n",
    "            \n",
    "                    cropped1.append(frame[bb[i][1]:bb[i][3], bb[i][0]:bb[i][2], :])\n",
    "                    cropped[i] = facenet.flip(cropped1[i], False)\n",
    "                    scaled.append(misc.imresize(cropped[i], (image_size, image_size), interp='bilinear'))\n",
    "                    scaled[i] = cv2.resize(scaled[i], (image_size,image_size),interpolation=cv2.INTER_CUBIC)\n",
    "                    scaled[i] = facenet.prewhiten(scaled[i])\n",
    "                    scaled_reshape.append(scaled[i].reshape(-1,image_size,image_size,3))\n",
    "                    feed_dict = {images_placeholder: scaled_reshape[i], phase_train_placeholder: False}\n",
    "                    emb_array[0, :] = sess.run(embeddings, feed_dict=feed_dict)\n",
    "                    \n",
    "                    predictions = model.predict_proba(emb_array)#Đưa data vào model\n",
    "                    best_class_indices = np.argmax(predictions, axis=1)\n",
    "                \n",
    "                    best_class_probabilities = predictions[np.arange(len(best_class_indices)), best_class_indices]\n",
    "                    for i in range(len(best_class_indices)):\n",
    "                        print('%4d  %s: %.3f' % (i, class_names[best_class_indices[i]], best_class_probabilities[i]))\n",
    "                    \n",
    "                    cv2.putText(frame,class_names[best_class_indices[i]],(bb[i][0],bb[i][1]),font,4,(255,255,255),2,cv2.LINE_AA) \n",
    "                cv2.imshow('frame',frame)"
   ]
  },
  {
   "cell_type": "code",
   "execution_count": null,
   "metadata": {},
   "outputs": [],
   "source": []
  }
 ],
 "metadata": {
  "kernelspec": {
   "display_name": "Python 3",
   "language": "python",
   "name": "python3"
  },
  "language_info": {
   "codemirror_mode": {
    "name": "ipython",
    "version": 3
   },
   "file_extension": ".py",
   "mimetype": "text/x-python",
   "name": "python",
   "nbconvert_exporter": "python",
   "pygments_lexer": "ipython3",
   "version": "3.6.3"
  }
 },
 "nbformat": 4,
 "nbformat_minor": 2
}
